{
 "cells": [
  {
   "cell_type": "code",
   "execution_count": 1,
   "metadata": {},
   "outputs": [
    {
     "name": "stderr",
     "output_type": "stream",
     "text": [
      "/Users/michaelgriffin/Library/Python/3.9/lib/python/site-packages/urllib3/__init__.py:35: NotOpenSSLWarning: urllib3 v2 only supports OpenSSL 1.1.1+, currently the 'ssl' module is compiled with 'LibreSSL 2.8.3'. See: https://github.com/urllib3/urllib3/issues/3020\n",
      "  warnings.warn(\n"
     ]
    },
    {
     "name": "stdout",
     "output_type": "stream",
     "text": [
      "<class 'pandas.core.frame.DataFrame'>\n"
     ]
    }
   ],
   "source": [
    "import tensorflow as tf\n",
    "from tensorflow.keras.layers import Dropout, Dense\n",
    "from tensorflow.keras.regularizers import l2\n",
    "import numpy as np\n",
    "import pandas as pd\n",
    "from sklearn.preprocessing import StandardScaler\n",
    "from sklearn.model_selection import train_test_split\n",
    "import matplotlib.pyplot as plt\n",
    "import pickle\n",
    "\n",
    "# with open('encoded.pkl', 'rb') as file:\n",
    "#     shotlog=pickle.load(file)\n",
    "with open('shotlog.pkl','rb') as file:\n",
    "    shotlog=pickle.load(file)\n",
    "\n",
    "print(type(shotlog))\n",
    "first_column=shotlog.pop('SHOT_RESULT')\n",
    "shotlog.insert(0,'SHOT_RESULT',first_column)"
   ]
  },
  {
   "cell_type": "code",
   "execution_count": 2,
   "metadata": {},
   "outputs": [
    {
     "name": "stdout",
     "output_type": "stream",
     "text": [
      "         SHOT_RESULT       GAME_ID       LOCATION              W  \\\n",
      "count  128069.000000  1.280690e+05  128069.000000  128069.000000   \n",
      "mean        0.452139  2.140045e+07       0.499215       0.504377   \n",
      "std         0.497706  2.578773e+02       0.500001       0.499983   \n",
      "min         0.000000  2.140000e+07       0.000000       0.000000   \n",
      "25%         0.000000  2.140023e+07       0.000000       0.000000   \n",
      "50%         0.000000  2.140045e+07       0.000000       1.000000   \n",
      "75%         1.000000  2.140067e+07       1.000000       1.000000   \n",
      "max         1.000000  2.140091e+07       1.000000       1.000000   \n",
      "\n",
      "        FINAL_MARGIN    SHOT_NUMBER     GAME_CLOCK     SHOT_CLOCK  \\\n",
      "count  128069.000000  128069.000000  128069.000000  128069.000000   \n",
      "mean        0.208723       6.506899     351.393811      17.932493   \n",
      "std        13.233267       4.713260     207.590603      51.834789   \n",
      "min       -53.000000       1.000000       0.000000       0.000000   \n",
      "25%        -8.000000       3.000000     172.000000       8.000000   \n",
      "50%         1.000000       5.000000     352.000000      12.200000   \n",
      "75%         9.000000       9.000000     531.000000      16.800000   \n",
      "max        53.000000      38.000000     720.000000     712.000000   \n",
      "\n",
      "           SHOT_DIST  CLOSEST_DEFENDER_PLAYER_ID  CLOSE_DEF_DIST  \\\n",
      "count  128069.000000               128069.000000   128069.000000   \n",
      "mean       13.571504               159038.487284        4.123015   \n",
      "std         8.888964                78791.172947        2.756446   \n",
      "min         0.000000                  708.000000        0.000000   \n",
      "25%         4.700000               101249.000000        2.300000   \n",
      "50%        13.700000               201949.000000        3.700000   \n",
      "75%        22.500000               203079.000000        5.300000   \n",
      "max        47.200000               530027.000000       53.200000   \n",
      "\n",
      "                 PTS      player_id  player field goal percentage  \\\n",
      "count  128069.000000  128069.000000                 128069.000000   \n",
      "mean        0.997314  157238.251247                      0.452139   \n",
      "std         1.130978   79362.389336                      0.052171   \n",
      "min         0.000000     708.000000                      0.308511   \n",
      "25%         0.000000  101162.000000                      0.416816   \n",
      "50%         0.000000  201939.000000                      0.448674   \n",
      "75%         2.000000  202704.000000                      0.480226   \n",
      "max         3.000000  204060.000000                      0.712468   \n",
      "\n",
      "       Defender Field goal Percentage against            EFG           DEFG  \\\n",
      "count                           128069.000000  113303.000000  127845.000000   \n",
      "mean                                 0.452139       0.495958       0.498721   \n",
      "std                                  0.038569       0.039964       0.042608   \n",
      "min                                  0.000000       0.347032       0.234375   \n",
      "25%                                  0.430034       0.470990       0.473934   \n",
      "50%                                  0.452632       0.493459       0.496721   \n",
      "75%                                  0.476000       0.521484       0.524731   \n",
      "max                                  1.000000       0.675732       1.333333   \n",
      "\n",
      "                PC1           PC2  \n",
      "count  1.280690e+05  1.280690e+05  \n",
      "mean   5.770049e-17 -4.837964e-17  \n",
      "std    1.407271e+00  1.019040e+00  \n",
      "min   -3.829535e+01 -2.443819e+00  \n",
      "25%   -8.102373e-01 -7.359282e-01  \n",
      "50%   -4.403975e-01  6.173072e-04  \n",
      "75%    4.011796e-01  7.556720e-01  \n",
      "max    1.036995e+01  4.802143e+00  \n"
     ]
    }
   ],
   "source": [
    "print(shotlog.describe())"
   ]
  },
  {
   "cell_type": "code",
   "execution_count": 3,
   "metadata": {},
   "outputs": [
    {
     "name": "stderr",
     "output_type": "stream",
     "text": [
      "/var/folders/2x/nf0lp8t90h3dqk26_6q9tztr0000gn/T/ipykernel_6939/991535532.py:2: FutureWarning: A value is trying to be set on a copy of a DataFrame or Series through chained assignment using an inplace method.\n",
      "The behavior will change in pandas 3.0. This inplace method will never work because the intermediate object on which we are setting values always behaves as a copy.\n",
      "\n",
      "For example, when doing 'df[col].method(value, inplace=True)', try using 'df.method({col: value}, inplace=True)' or df[col] = df[col].method(value) instead, to perform the operation inplace on the original object.\n",
      "\n",
      "\n",
      "  shotlog['EFG'].fillna(value=fgmean, inplace=True)\n",
      "/var/folders/2x/nf0lp8t90h3dqk26_6q9tztr0000gn/T/ipykernel_6939/991535532.py:4: FutureWarning: A value is trying to be set on a copy of a DataFrame or Series through chained assignment using an inplace method.\n",
      "The behavior will change in pandas 3.0. This inplace method will never work because the intermediate object on which we are setting values always behaves as a copy.\n",
      "\n",
      "For example, when doing 'df[col].method(value, inplace=True)', try using 'df.method({col: value}, inplace=True)' or df[col] = df[col].method(value) instead, to perform the operation inplace on the original object.\n",
      "\n",
      "\n",
      "  shotlog['DEFG'].fillna(value=dfgmean,inplace=True)\n"
     ]
    }
   ],
   "source": [
    "fgmean=shotlog['EFG'].mean()\n",
    "shotlog['EFG'].fillna(value=fgmean, inplace=True)\n",
    "dfgmean=shotlog['DEFG'].mean()\n",
    "shotlog['DEFG'].fillna(value=dfgmean,inplace=True)\n",
    "shotlog=shotlog.drop(['CLOSEST_DEFENDER_PLAYER_ID','FINAL_MARGIN','W','LOCATION','player field goal percentage','Defender Field goal Percentage against'],axis=1)"
   ]
  },
  {
   "cell_type": "code",
   "execution_count": 4,
   "metadata": {},
   "outputs": [
    {
     "name": "stdout",
     "output_type": "stream",
     "text": [
      "3\n"
     ]
    }
   ],
   "source": [
    "Scaler=StandardScaler()\n",
    "\n",
    "X=shotlog.values[:,1:]\n",
    "y=shotlog['SHOT_RESULT']\n",
    "X_train, X_test, Y_train, Y_test=train_test_split(X,y, test_size=0.4, random_state=42)\n",
    "\n",
    "X_train=X_train.astype('float32')\n",
    "X_test=X_test.astype('float32')\n",
    "Y_train=Y_train.astype('float32')\n",
    "Y_test=Y_test.astype('float32')\n",
    "\n",
    "X_train=Scaler.fit_transform(X_train)\n",
    "X_test=Scaler.fit_transform(X_test)\n",
    "\n",
    "overlap = np.intersect1d(X_train, X_test)\n",
    "print(len(overlap))  \n",
    "\n",
    "X_base,X_final,Y_base,Y_final=train_test_split(X_train,Y_train, test_size=0.25, random_state=42)"
   ]
  },
  {
   "cell_type": "code",
   "execution_count": 5,
   "metadata": {},
   "outputs": [
    {
     "name": "stderr",
     "output_type": "stream",
     "text": [
      "/Users/michaelgriffin/Library/Python/3.9/lib/python/site-packages/keras/src/layers/core/dense.py:87: UserWarning: Do not pass an `input_shape`/`input_dim` argument to a layer. When using Sequential models, prefer using an `Input(shape)` object as the first layer in the model instead.\n",
      "  super().__init__(activity_regularizer=activity_regularizer, **kwargs)\n"
     ]
    },
    {
     "data": {
      "text/html": [
       "<pre style=\"white-space:pre;overflow-x:auto;line-height:normal;font-family:Menlo,'DejaVu Sans Mono',consolas,'Courier New',monospace\"><span style=\"font-weight: bold\">Model: \"sequential\"</span>\n",
       "</pre>\n"
      ],
      "text/plain": [
       "\u001b[1mModel: \"sequential\"\u001b[0m\n"
      ]
     },
     "metadata": {},
     "output_type": "display_data"
    },
    {
     "data": {
      "text/html": [
       "<pre style=\"white-space:pre;overflow-x:auto;line-height:normal;font-family:Menlo,'DejaVu Sans Mono',consolas,'Courier New',monospace\">┏━━━━━━━━━━━━━━━━━━━━━━━━━━━━━━━━━┳━━━━━━━━━━━━━━━━━━━━━━━━┳━━━━━━━━━━━━━━━┓\n",
       "┃<span style=\"font-weight: bold\"> Layer (type)                    </span>┃<span style=\"font-weight: bold\"> Output Shape           </span>┃<span style=\"font-weight: bold\">       Param # </span>┃\n",
       "┡━━━━━━━━━━━━━━━━━━━━━━━━━━━━━━━━━╇━━━━━━━━━━━━━━━━━━━━━━━━╇━━━━━━━━━━━━━━━┩\n",
       "│ dense (<span style=\"color: #0087ff; text-decoration-color: #0087ff\">Dense</span>)                   │ (<span style=\"color: #00d7ff; text-decoration-color: #00d7ff\">None</span>, <span style=\"color: #00af00; text-decoration-color: #00af00\">32</span>)             │           <span style=\"color: #00af00; text-decoration-color: #00af00\">416</span> │\n",
       "├─────────────────────────────────┼────────────────────────┼───────────────┤\n",
       "│ dense_1 (<span style=\"color: #0087ff; text-decoration-color: #0087ff\">Dense</span>)                 │ (<span style=\"color: #00d7ff; text-decoration-color: #00d7ff\">None</span>, <span style=\"color: #00af00; text-decoration-color: #00af00\">32</span>)             │         <span style=\"color: #00af00; text-decoration-color: #00af00\">1,056</span> │\n",
       "├─────────────────────────────────┼────────────────────────┼───────────────┤\n",
       "│ dropout (<span style=\"color: #0087ff; text-decoration-color: #0087ff\">Dropout</span>)               │ (<span style=\"color: #00d7ff; text-decoration-color: #00d7ff\">None</span>, <span style=\"color: #00af00; text-decoration-color: #00af00\">32</span>)             │             <span style=\"color: #00af00; text-decoration-color: #00af00\">0</span> │\n",
       "├─────────────────────────────────┼────────────────────────┼───────────────┤\n",
       "│ dense_2 (<span style=\"color: #0087ff; text-decoration-color: #0087ff\">Dense</span>)                 │ (<span style=\"color: #00d7ff; text-decoration-color: #00d7ff\">None</span>, <span style=\"color: #00af00; text-decoration-color: #00af00\">16</span>)             │           <span style=\"color: #00af00; text-decoration-color: #00af00\">528</span> │\n",
       "├─────────────────────────────────┼────────────────────────┼───────────────┤\n",
       "│ dense_3 (<span style=\"color: #0087ff; text-decoration-color: #0087ff\">Dense</span>)                 │ (<span style=\"color: #00d7ff; text-decoration-color: #00d7ff\">None</span>, <span style=\"color: #00af00; text-decoration-color: #00af00\">1</span>)              │            <span style=\"color: #00af00; text-decoration-color: #00af00\">17</span> │\n",
       "└─────────────────────────────────┴────────────────────────┴───────────────┘\n",
       "</pre>\n"
      ],
      "text/plain": [
       "┏━━━━━━━━━━━━━━━━━━━━━━━━━━━━━━━━━┳━━━━━━━━━━━━━━━━━━━━━━━━┳━━━━━━━━━━━━━━━┓\n",
       "┃\u001b[1m \u001b[0m\u001b[1mLayer (type)                   \u001b[0m\u001b[1m \u001b[0m┃\u001b[1m \u001b[0m\u001b[1mOutput Shape          \u001b[0m\u001b[1m \u001b[0m┃\u001b[1m \u001b[0m\u001b[1m      Param #\u001b[0m\u001b[1m \u001b[0m┃\n",
       "┡━━━━━━━━━━━━━━━━━━━━━━━━━━━━━━━━━╇━━━━━━━━━━━━━━━━━━━━━━━━╇━━━━━━━━━━━━━━━┩\n",
       "│ dense (\u001b[38;5;33mDense\u001b[0m)                   │ (\u001b[38;5;45mNone\u001b[0m, \u001b[38;5;34m32\u001b[0m)             │           \u001b[38;5;34m416\u001b[0m │\n",
       "├─────────────────────────────────┼────────────────────────┼───────────────┤\n",
       "│ dense_1 (\u001b[38;5;33mDense\u001b[0m)                 │ (\u001b[38;5;45mNone\u001b[0m, \u001b[38;5;34m32\u001b[0m)             │         \u001b[38;5;34m1,056\u001b[0m │\n",
       "├─────────────────────────────────┼────────────────────────┼───────────────┤\n",
       "│ dropout (\u001b[38;5;33mDropout\u001b[0m)               │ (\u001b[38;5;45mNone\u001b[0m, \u001b[38;5;34m32\u001b[0m)             │             \u001b[38;5;34m0\u001b[0m │\n",
       "├─────────────────────────────────┼────────────────────────┼───────────────┤\n",
       "│ dense_2 (\u001b[38;5;33mDense\u001b[0m)                 │ (\u001b[38;5;45mNone\u001b[0m, \u001b[38;5;34m16\u001b[0m)             │           \u001b[38;5;34m528\u001b[0m │\n",
       "├─────────────────────────────────┼────────────────────────┼───────────────┤\n",
       "│ dense_3 (\u001b[38;5;33mDense\u001b[0m)                 │ (\u001b[38;5;45mNone\u001b[0m, \u001b[38;5;34m1\u001b[0m)              │            \u001b[38;5;34m17\u001b[0m │\n",
       "└─────────────────────────────────┴────────────────────────┴───────────────┘\n"
      ]
     },
     "metadata": {},
     "output_type": "display_data"
    },
    {
     "data": {
      "text/html": [
       "<pre style=\"white-space:pre;overflow-x:auto;line-height:normal;font-family:Menlo,'DejaVu Sans Mono',consolas,'Courier New',monospace\"><span style=\"font-weight: bold\"> Total params: </span><span style=\"color: #00af00; text-decoration-color: #00af00\">2,017</span> (7.88 KB)\n",
       "</pre>\n"
      ],
      "text/plain": [
       "\u001b[1m Total params: \u001b[0m\u001b[38;5;34m2,017\u001b[0m (7.88 KB)\n"
      ]
     },
     "metadata": {},
     "output_type": "display_data"
    },
    {
     "data": {
      "text/html": [
       "<pre style=\"white-space:pre;overflow-x:auto;line-height:normal;font-family:Menlo,'DejaVu Sans Mono',consolas,'Courier New',monospace\"><span style=\"font-weight: bold\"> Trainable params: </span><span style=\"color: #00af00; text-decoration-color: #00af00\">2,017</span> (7.88 KB)\n",
       "</pre>\n"
      ],
      "text/plain": [
       "\u001b[1m Trainable params: \u001b[0m\u001b[38;5;34m2,017\u001b[0m (7.88 KB)\n"
      ]
     },
     "metadata": {},
     "output_type": "display_data"
    },
    {
     "data": {
      "text/html": [
       "<pre style=\"white-space:pre;overflow-x:auto;line-height:normal;font-family:Menlo,'DejaVu Sans Mono',consolas,'Courier New',monospace\"><span style=\"font-weight: bold\"> Non-trainable params: </span><span style=\"color: #00af00; text-decoration-color: #00af00\">0</span> (0.00 B)\n",
       "</pre>\n"
      ],
      "text/plain": [
       "\u001b[1m Non-trainable params: \u001b[0m\u001b[38;5;34m0\u001b[0m (0.00 B)\n"
      ]
     },
     "metadata": {},
     "output_type": "display_data"
    }
   ],
   "source": [
    "input_shape=[X_train.shape[1]]\n",
    "model=tf.keras.Sequential([\n",
    "tf.keras.layers.Dense(units=32, activation='relu', input_shape=(12,)),\n",
    "Dense(32, activation='relu',kernel_regularizer=l2(0.01)),\n",
    "Dropout(0.3),\n",
    "tf.keras.layers.Dense(units=16, activation='sigmoid'),\n",
    "tf.keras.layers.Dense(units=1, activation='sigmoid')\n",
    "])\n",
    "model.summary()"
   ]
  },
  {
   "cell_type": "code",
   "execution_count": 6,
   "metadata": {},
   "outputs": [],
   "source": [
    "model.compile(optimizer='adam', loss='binary_crossentropy', metrics=['accuracy'])\n"
   ]
  },
  {
   "cell_type": "code",
   "execution_count": 7,
   "metadata": {},
   "outputs": [
    {
     "name": "stdout",
     "output_type": "stream",
     "text": [
      "Epoch 1/30\n",
      "\u001b[1m769/769\u001b[0m \u001b[32m━━━━━━━━━━━━━━━━━━━━\u001b[0m\u001b[37m\u001b[0m \u001b[1m2s\u001b[0m 1ms/step - accuracy: 0.8759 - loss: 0.4525 - val_accuracy: 1.0000 - val_loss: 0.0206\n",
      "Epoch 2/30\n",
      "\u001b[1m769/769\u001b[0m \u001b[32m━━━━━━━━━━━━━━━━━━━━\u001b[0m\u001b[37m\u001b[0m \u001b[1m1s\u001b[0m 814us/step - accuracy: 1.0000 - loss: 0.0168 - val_accuracy: 1.0000 - val_loss: 0.0071\n",
      "Epoch 3/30\n",
      "\u001b[1m769/769\u001b[0m \u001b[32m━━━━━━━━━━━━━━━━━━━━\u001b[0m\u001b[37m\u001b[0m \u001b[1m1s\u001b[0m 808us/step - accuracy: 1.0000 - loss: 0.0066 - val_accuracy: 1.0000 - val_loss: 0.0039\n",
      "Epoch 4/30\n",
      "\u001b[1m769/769\u001b[0m \u001b[32m━━━━━━━━━━━━━━━━━━━━\u001b[0m\u001b[37m\u001b[0m \u001b[1m1s\u001b[0m 802us/step - accuracy: 1.0000 - loss: 0.0036 - val_accuracy: 1.0000 - val_loss: 0.0023\n",
      "Epoch 5/30\n",
      "\u001b[1m769/769\u001b[0m \u001b[32m━━━━━━━━━━━━━━━━━━━━\u001b[0m\u001b[37m\u001b[0m \u001b[1m1s\u001b[0m 807us/step - accuracy: 1.0000 - loss: 0.0023 - val_accuracy: 1.0000 - val_loss: 0.0015\n",
      "Epoch 6/30\n",
      "\u001b[1m769/769\u001b[0m \u001b[32m━━━━━━━━━━━━━━━━━━━━\u001b[0m\u001b[37m\u001b[0m \u001b[1m1s\u001b[0m 798us/step - accuracy: 1.0000 - loss: 0.0015 - val_accuracy: 1.0000 - val_loss: 9.7274e-04\n",
      "Epoch 7/30\n",
      "\u001b[1m769/769\u001b[0m \u001b[32m━━━━━━━━━━━━━━━━━━━━\u001b[0m\u001b[37m\u001b[0m \u001b[1m1s\u001b[0m 865us/step - accuracy: 1.0000 - loss: 0.0011 - val_accuracy: 1.0000 - val_loss: 6.7588e-04\n",
      "Epoch 8/30\n",
      "\u001b[1m769/769\u001b[0m \u001b[32m━━━━━━━━━━━━━━━━━━━━\u001b[0m\u001b[37m\u001b[0m \u001b[1m1s\u001b[0m 1ms/step - accuracy: 1.0000 - loss: 8.2723e-04 - val_accuracy: 1.0000 - val_loss: 4.9051e-04\n",
      "Epoch 9/30\n",
      "\u001b[1m769/769\u001b[0m \u001b[32m━━━━━━━━━━━━━━━━━━━━\u001b[0m\u001b[37m\u001b[0m \u001b[1m1s\u001b[0m 788us/step - accuracy: 1.0000 - loss: 5.7817e-04 - val_accuracy: 1.0000 - val_loss: 4.4678e-04\n",
      "Epoch 10/30\n",
      "\u001b[1m769/769\u001b[0m \u001b[32m━━━━━━━━━━━━━━━━━━━━\u001b[0m\u001b[37m\u001b[0m \u001b[1m1s\u001b[0m 879us/step - accuracy: 1.0000 - loss: 5.3375e-04 - val_accuracy: 1.0000 - val_loss: 2.5891e-04\n",
      "Epoch 11/30\n",
      "\u001b[1m769/769\u001b[0m \u001b[32m━━━━━━━━━━━━━━━━━━━━\u001b[0m\u001b[37m\u001b[0m \u001b[1m1s\u001b[0m 804us/step - accuracy: 1.0000 - loss: 3.3626e-04 - val_accuracy: 1.0000 - val_loss: 2.6043e-04\n",
      "Epoch 12/30\n",
      "\u001b[1m769/769\u001b[0m \u001b[32m━━━━━━━━━━━━━━━━━━━━\u001b[0m\u001b[37m\u001b[0m \u001b[1m1s\u001b[0m 802us/step - accuracy: 0.9999 - loss: 0.0015 - val_accuracy: 1.0000 - val_loss: 1.9753e-04\n",
      "Epoch 13/30\n",
      "\u001b[1m769/769\u001b[0m \u001b[32m━━━━━━━━━━━━━━━━━━━━\u001b[0m\u001b[37m\u001b[0m \u001b[1m1s\u001b[0m 876us/step - accuracy: 1.0000 - loss: 2.1934e-04 - val_accuracy: 1.0000 - val_loss: 1.5574e-04\n",
      "Epoch 14/30\n",
      "\u001b[1m769/769\u001b[0m \u001b[32m━━━━━━━━━━━━━━━━━━━━\u001b[0m\u001b[37m\u001b[0m \u001b[1m1s\u001b[0m 798us/step - accuracy: 1.0000 - loss: 1.8825e-04 - val_accuracy: 1.0000 - val_loss: 1.4972e-04\n",
      "Epoch 15/30\n",
      "\u001b[1m769/769\u001b[0m \u001b[32m━━━━━━━━━━━━━━━━━━━━\u001b[0m\u001b[37m\u001b[0m \u001b[1m1s\u001b[0m 802us/step - accuracy: 1.0000 - loss: 1.4053e-04 - val_accuracy: 1.0000 - val_loss: 1.4805e-04\n",
      "Epoch 16/30\n",
      "\u001b[1m769/769\u001b[0m \u001b[32m━━━━━━━━━━━━━━━━━━━━\u001b[0m\u001b[37m\u001b[0m \u001b[1m1s\u001b[0m 928us/step - accuracy: 1.0000 - loss: 2.0041e-04 - val_accuracy: 1.0000 - val_loss: 1.4999e-04\n",
      "Epoch 17/30\n",
      "\u001b[1m769/769\u001b[0m \u001b[32m━━━━━━━━━━━━━━━━━━━━\u001b[0m\u001b[37m\u001b[0m \u001b[1m1s\u001b[0m 1ms/step - accuracy: 1.0000 - loss: 1.0207e-04 - val_accuracy: 1.0000 - val_loss: 7.5302e-05\n",
      "Epoch 18/30\n",
      "\u001b[1m769/769\u001b[0m \u001b[32m━━━━━━━━━━━━━━━━━━━━\u001b[0m\u001b[37m\u001b[0m \u001b[1m1s\u001b[0m 835us/step - accuracy: 1.0000 - loss: 8.9973e-05 - val_accuracy: 1.0000 - val_loss: 2.7612e-04\n",
      "Epoch 19/30\n",
      "\u001b[1m769/769\u001b[0m \u001b[32m━━━━━━━━━━━━━━━━━━━━\u001b[0m\u001b[37m\u001b[0m \u001b[1m1s\u001b[0m 1ms/step - accuracy: 1.0000 - loss: 9.5628e-05 - val_accuracy: 1.0000 - val_loss: 4.2336e-05\n",
      "Epoch 20/30\n",
      "\u001b[1m769/769\u001b[0m \u001b[32m━━━━━━━━━━━━━━━━━━━━\u001b[0m\u001b[37m\u001b[0m \u001b[1m1s\u001b[0m 826us/step - accuracy: 1.0000 - loss: 6.4826e-05 - val_accuracy: 1.0000 - val_loss: 2.8924e-04\n",
      "Epoch 21/30\n",
      "\u001b[1m769/769\u001b[0m \u001b[32m━━━━━━━━━━━━━━━━━━━━\u001b[0m\u001b[37m\u001b[0m \u001b[1m1s\u001b[0m 947us/step - accuracy: 1.0000 - loss: 1.5573e-04 - val_accuracy: 1.0000 - val_loss: 0.0029\n",
      "Epoch 22/30\n",
      "\u001b[1m769/769\u001b[0m \u001b[32m━━━━━━━━━━━━━━━━━━━━\u001b[0m\u001b[37m\u001b[0m \u001b[1m1s\u001b[0m 929us/step - accuracy: 1.0000 - loss: 0.0018 - val_accuracy: 1.0000 - val_loss: 2.7799e-04\n",
      "Epoch 23/30\n",
      "\u001b[1m769/769\u001b[0m \u001b[32m━━━━━━━━━━━━━━━━━━━━\u001b[0m\u001b[37m\u001b[0m \u001b[1m1s\u001b[0m 798us/step - accuracy: 1.0000 - loss: 1.9817e-04 - val_accuracy: 1.0000 - val_loss: 6.5810e-05\n",
      "Epoch 24/30\n",
      "\u001b[1m769/769\u001b[0m \u001b[32m━━━━━━━━━━━━━━━━━━━━\u001b[0m\u001b[37m\u001b[0m \u001b[1m1s\u001b[0m 800us/step - accuracy: 1.0000 - loss: 6.0109e-05 - val_accuracy: 1.0000 - val_loss: 3.7778e-05\n",
      "Epoch 25/30\n",
      "\u001b[1m769/769\u001b[0m \u001b[32m━━━━━━━━━━━━━━━━━━━━\u001b[0m\u001b[37m\u001b[0m \u001b[1m1s\u001b[0m 800us/step - accuracy: 1.0000 - loss: 4.0228e-05 - val_accuracy: 1.0000 - val_loss: 3.4246e-05\n",
      "Epoch 26/30\n",
      "\u001b[1m769/769\u001b[0m \u001b[32m━━━━━━━━━━━━━━━━━━━━\u001b[0m\u001b[37m\u001b[0m \u001b[1m1s\u001b[0m 797us/step - accuracy: 1.0000 - loss: 7.4570e-05 - val_accuracy: 1.0000 - val_loss: 4.0659e-05\n",
      "Epoch 27/30\n",
      "\u001b[1m769/769\u001b[0m \u001b[32m━━━━━━━━━━━━━━━━━━━━\u001b[0m\u001b[37m\u001b[0m \u001b[1m1s\u001b[0m 1ms/step - accuracy: 1.0000 - loss: 3.1516e-05 - val_accuracy: 1.0000 - val_loss: 8.5729e-05\n",
      "Epoch 28/30\n",
      "\u001b[1m769/769\u001b[0m \u001b[32m━━━━━━━━━━━━━━━━━━━━\u001b[0m\u001b[37m\u001b[0m \u001b[1m1s\u001b[0m 806us/step - accuracy: 1.0000 - loss: 5.6593e-05 - val_accuracy: 1.0000 - val_loss: 1.0562e-04\n",
      "Epoch 29/30\n",
      "\u001b[1m769/769\u001b[0m \u001b[32m━━━━━━━━━━━━━━━━━━━━\u001b[0m\u001b[37m\u001b[0m \u001b[1m1s\u001b[0m 893us/step - accuracy: 1.0000 - loss: 8.8988e-05 - val_accuracy: 1.0000 - val_loss: 0.0029\n",
      "Epoch 30/30\n",
      "\u001b[1m769/769\u001b[0m \u001b[32m━━━━━━━━━━━━━━━━━━━━\u001b[0m\u001b[37m\u001b[0m \u001b[1m1s\u001b[0m 881us/step - accuracy: 1.0000 - loss: 0.0013 - val_accuracy: 1.0000 - val_loss: 3.2569e-05\n"
     ]
    }
   ],
   "source": [
    "validation=model.fit(X_train,Y_train, validation_data=(X_final, Y_final), batch_size=100, epochs=30)"
   ]
  },
  {
   "cell_type": "code",
   "execution_count": 8,
   "metadata": {},
   "outputs": [
    {
     "data": {
      "text/plain": [
       "<Axes: >"
      ]
     },
     "execution_count": 8,
     "metadata": {},
     "output_type": "execute_result"
    },
    {
     "data": {
      "image/png": "[encoded data removed]",
      "text/plain": [
       "<Figure size 640x480 with 1 Axes>"
      ]
     },
     "metadata": {},
     "output_type": "display_data"
    }
   ],
   "source": [
    "losses_df=pd.DataFrame(validation.history)\n",
    "\n",
    "losses_df.loc[:,['loss','val_loss']].plot()"
   ]
  },
  {
   "cell_type": "code",
   "execution_count": 9,
   "metadata": {},
   "outputs": [
    {
     "name": "stdout",
     "output_type": "stream",
     "text": [
      "Epoch 1/30\n",
      "\u001b[1m769/769\u001b[0m \u001b[32m━━━━━━━━━━━━━━━━━━━━\u001b[0m\u001b[37m\u001b[0m \u001b[1m1s\u001b[0m 1ms/step - accuracy: 1.0000 - loss: 3.2372e-05 - val_accuracy: 1.0000 - val_loss: 1.5553e-05\n",
      "Epoch 2/30\n",
      "\u001b[1m769/769\u001b[0m \u001b[32m━━━━━━━━━━━━━━━━━━━━\u001b[0m\u001b[37m\u001b[0m \u001b[1m1s\u001b[0m 963us/step - accuracy: 1.0000 - loss: 4.3998e-05 - val_accuracy: 1.0000 - val_loss: 3.2539e-05\n",
      "Epoch 3/30\n",
      "\u001b[1m769/769\u001b[0m \u001b[32m━━━━━━━━━━━━━━━━━━━━\u001b[0m\u001b[37m\u001b[0m \u001b[1m1s\u001b[0m 1ms/step - accuracy: 1.0000 - loss: 3.0626e-05 - val_accuracy: 1.0000 - val_loss: 3.8440e-05\n",
      "Epoch 4/30\n",
      "\u001b[1m769/769\u001b[0m \u001b[32m━━━━━━━━━━━━━━━━━━━━\u001b[0m\u001b[37m\u001b[0m \u001b[1m1s\u001b[0m 1ms/step - accuracy: 1.0000 - loss: 2.4306e-05 - val_accuracy: 1.0000 - val_loss: 1.3772e-05\n",
      "Epoch 5/30\n",
      "\u001b[1m769/769\u001b[0m \u001b[32m━━━━━━━━━━━━━━━━━━━━\u001b[0m\u001b[37m\u001b[0m \u001b[1m1s\u001b[0m 1ms/step - accuracy: 1.0000 - loss: 5.5967e-05 - val_accuracy: 1.0000 - val_loss: 9.3871e-06\n",
      "Epoch 6/30\n",
      "\u001b[1m769/769\u001b[0m \u001b[32m━━━━━━━━━━━━━━━━━━━━\u001b[0m\u001b[37m\u001b[0m \u001b[1m1s\u001b[0m 1ms/step - accuracy: 1.0000 - loss: 1.1185e-04 - val_accuracy: 1.0000 - val_loss: 6.1685e-05\n",
      "Epoch 7/30\n",
      "\u001b[1m769/769\u001b[0m \u001b[32m━━━━━━━━━━━━━━━━━━━━\u001b[0m\u001b[37m\u001b[0m \u001b[1m1s\u001b[0m 992us/step - accuracy: 1.0000 - loss: 1.8067e-04 - val_accuracy: 1.0000 - val_loss: 1.2360e-05\n",
      "Epoch 8/30\n",
      "\u001b[1m769/769\u001b[0m \u001b[32m━━━━━━━━━━━━━━━━━━━━\u001b[0m\u001b[37m\u001b[0m \u001b[1m1s\u001b[0m 992us/step - accuracy: 1.0000 - loss: 3.1477e-05 - val_accuracy: 1.0000 - val_loss: 1.9092e-05\n",
      "Epoch 9/30\n",
      "\u001b[1m769/769\u001b[0m \u001b[32m━━━━━━━━━━━━━━━━━━━━\u001b[0m\u001b[37m\u001b[0m \u001b[1m1s\u001b[0m 1ms/step - accuracy: 1.0000 - loss: 7.1370e-05 - val_accuracy: 1.0000 - val_loss: 1.3357e-05\n",
      "Epoch 10/30\n",
      "\u001b[1m769/769\u001b[0m \u001b[32m━━━━━━━━━━━━━━━━━━━━\u001b[0m\u001b[37m\u001b[0m \u001b[1m1s\u001b[0m 2ms/step - accuracy: 0.9999 - loss: 8.7278e-04 - val_accuracy: 1.0000 - val_loss: 0.0014\n",
      "Epoch 11/30\n",
      "\u001b[1m769/769\u001b[0m \u001b[32m━━━━━━━━━━━━━━━━━━━━\u001b[0m\u001b[37m\u001b[0m \u001b[1m1s\u001b[0m 1ms/step - accuracy: 1.0000 - loss: 0.0012 - val_accuracy: 1.0000 - val_loss: 6.9050e-04\n",
      "Epoch 12/30\n",
      "\u001b[1m769/769\u001b[0m \u001b[32m━━━━━━━━━━━━━━━━━━━━\u001b[0m\u001b[37m\u001b[0m \u001b[1m1s\u001b[0m 967us/step - accuracy: 1.0000 - loss: 7.9792e-04 - val_accuracy: 1.0000 - val_loss: 5.4342e-04\n",
      "Epoch 13/30\n",
      "\u001b[1m769/769\u001b[0m \u001b[32m━━━━━━━━━━━━━━━━━━━━\u001b[0m\u001b[37m\u001b[0m \u001b[1m1s\u001b[0m 960us/step - accuracy: 1.0000 - loss: 4.2345e-04 - val_accuracy: 1.0000 - val_loss: 2.1236e-04\n",
      "Epoch 14/30\n",
      "\u001b[1m769/769\u001b[0m \u001b[32m━━━━━━━━━━━━━━━━━━━━\u001b[0m\u001b[37m\u001b[0m \u001b[1m1s\u001b[0m 963us/step - accuracy: 1.0000 - loss: 2.3044e-04 - val_accuracy: 1.0000 - val_loss: 1.3967e-04\n",
      "Epoch 15/30\n",
      "\u001b[1m769/769\u001b[0m \u001b[32m━━━━━━━━━━━━━━━━━━━━\u001b[0m\u001b[37m\u001b[0m \u001b[1m1s\u001b[0m 959us/step - accuracy: 1.0000 - loss: 1.7362e-04 - val_accuracy: 1.0000 - val_loss: 3.0579e-04\n",
      "Epoch 16/30\n",
      "\u001b[1m769/769\u001b[0m \u001b[32m━━━━━━━━━━━━━━━━━━━━\u001b[0m\u001b[37m\u001b[0m \u001b[1m1s\u001b[0m 965us/step - accuracy: 1.0000 - loss: 2.5717e-04 - val_accuracy: 1.0000 - val_loss: 7.1781e-05\n",
      "Epoch 17/30\n",
      "\u001b[1m769/769\u001b[0m \u001b[32m━━━━━━━━━━━━━━━━━━━━\u001b[0m\u001b[37m\u001b[0m \u001b[1m1s\u001b[0m 962us/step - accuracy: 1.0000 - loss: 4.7530e-04 - val_accuracy: 1.0000 - val_loss: 6.4319e-05\n",
      "Epoch 18/30\n",
      "\u001b[1m769/769\u001b[0m \u001b[32m━━━━━━━━━━━━━━━━━━━━\u001b[0m\u001b[37m\u001b[0m \u001b[1m1s\u001b[0m 962us/step - accuracy: 1.0000 - loss: 1.4247e-04 - val_accuracy: 1.0000 - val_loss: 4.6080e-05\n",
      "Epoch 19/30\n",
      "\u001b[1m769/769\u001b[0m \u001b[32m━━━━━━━━━━━━━━━━━━━━\u001b[0m\u001b[37m\u001b[0m \u001b[1m1s\u001b[0m 1ms/step - accuracy: 1.0000 - loss: 6.6597e-05 - val_accuracy: 1.0000 - val_loss: 2.9912e-05\n",
      "Epoch 20/30\n",
      "\u001b[1m769/769\u001b[0m \u001b[32m━━━━━━━━━━━━━━━━━━━━\u001b[0m\u001b[37m\u001b[0m \u001b[1m1s\u001b[0m 968us/step - accuracy: 1.0000 - loss: 1.1700e-04 - val_accuracy: 1.0000 - val_loss: 3.1740e-04\n",
      "Epoch 21/30\n",
      "\u001b[1m769/769\u001b[0m \u001b[32m━━━━━━━━━━━━━━━━━━━━\u001b[0m\u001b[37m\u001b[0m \u001b[1m1s\u001b[0m 1ms/step - accuracy: 1.0000 - loss: 3.2092e-04 - val_accuracy: 1.0000 - val_loss: 4.3468e-04\n",
      "Epoch 22/30\n",
      "\u001b[1m769/769\u001b[0m \u001b[32m━━━━━━━━━━━━━━━━━━━━\u001b[0m\u001b[37m\u001b[0m \u001b[1m1s\u001b[0m 1ms/step - accuracy: 1.0000 - loss: 2.6602e-04 - val_accuracy: 1.0000 - val_loss: 8.2017e-05\n",
      "Epoch 23/30\n",
      "\u001b[1m769/769\u001b[0m \u001b[32m━━━━━━━━━━━━━━━━━━━━\u001b[0m\u001b[37m\u001b[0m \u001b[1m1s\u001b[0m 977us/step - accuracy: 1.0000 - loss: 3.7401e-04 - val_accuracy: 1.0000 - val_loss: 4.3388e-04\n",
      "Epoch 24/30\n",
      "\u001b[1m769/769\u001b[0m \u001b[32m━━━━━━━━━━━━━━━━━━━━\u001b[0m\u001b[37m\u001b[0m \u001b[1m1s\u001b[0m 940us/step - accuracy: 1.0000 - loss: 5.2439e-04 - val_accuracy: 1.0000 - val_loss: 1.7281e-04\n",
      "Epoch 25/30\n",
      "\u001b[1m769/769\u001b[0m \u001b[32m━━━━━━━━━━━━━━━━━━━━\u001b[0m\u001b[37m\u001b[0m \u001b[1m1s\u001b[0m 935us/step - accuracy: 1.0000 - loss: 1.3633e-04 - val_accuracy: 1.0000 - val_loss: 0.0018\n",
      "Epoch 26/30\n",
      "\u001b[1m769/769\u001b[0m \u001b[32m━━━━━━━━━━━━━━━━━━━━\u001b[0m\u001b[37m\u001b[0m \u001b[1m1s\u001b[0m 1ms/step - accuracy: 0.9999 - loss: 0.0036 - val_accuracy: 1.0000 - val_loss: 0.0013\n",
      "Epoch 27/30\n",
      "\u001b[1m769/769\u001b[0m \u001b[32m━━━━━━━━━━━━━━━━━━━━\u001b[0m\u001b[37m\u001b[0m \u001b[1m1s\u001b[0m 941us/step - accuracy: 1.0000 - loss: 0.0011 - val_accuracy: 1.0000 - val_loss: 3.7668e-04\n",
      "Epoch 28/30\n",
      "\u001b[1m769/769\u001b[0m \u001b[32m━━━━━━━━━━━━━━━━━━━━\u001b[0m\u001b[37m\u001b[0m \u001b[1m1s\u001b[0m 936us/step - accuracy: 1.0000 - loss: 2.8041e-04 - val_accuracy: 1.0000 - val_loss: 8.8575e-05\n",
      "Epoch 29/30\n",
      "\u001b[1m769/769\u001b[0m \u001b[32m━━━━━━━━━━━━━━━━━━━━\u001b[0m\u001b[37m\u001b[0m \u001b[1m1s\u001b[0m 937us/step - accuracy: 1.0000 - loss: 1.6760e-04 - val_accuracy: 1.0000 - val_loss: 2.5147e-05\n",
      "Epoch 30/30\n",
      "\u001b[1m769/769\u001b[0m \u001b[32m━━━━━━━━━━━━━━━━━━━━\u001b[0m\u001b[37m\u001b[0m \u001b[1m1s\u001b[0m 936us/step - accuracy: 1.0000 - loss: 4.3195e-05 - val_accuracy: 1.0000 - val_loss: 1.9370e-04\n"
     ]
    }
   ],
   "source": [
    "trainer=model.fit(X_train, Y_train, validation_data=(X_base, Y_base), batch_size=100, epochs=30)"
   ]
  },
  {
   "cell_type": "code",
   "execution_count": 10,
   "metadata": {},
   "outputs": [
    {
     "data": {
      "text/plain": [
       "SHOT_RESULT\n",
       "0.0    42199\n",
       "1.0    34642\n",
       "Name: count, dtype: int64"
      ]
     },
     "execution_count": 10,
     "metadata": {},
     "output_type": "execute_result"
    }
   ],
   "source": [
    "Y_train.value_counts()"
   ]
  },
  {
   "cell_type": "code",
   "execution_count": 11,
   "metadata": {},
   "outputs": [
    {
     "data": {
      "text/plain": [
       "<Axes: >"
      ]
     },
     "execution_count": 11,
     "metadata": {},
     "output_type": "execute_result"
    },
    {
     "data": {
      "image/png": "[encoded data removed]",
      "text/plain": [
       "<Figure size 640x480 with 1 Axes>"
      ]
     },
     "metadata": {},
     "output_type": "display_data"
    }
   ],
   "source": [
    "losses_df=pd.DataFrame(trainer.history)\n",
    "\n",
    "losses_df.loc[:,['loss','val_loss']].plot()"
   ]
  }
 ],
 "metadata": {
  "kernelspec": {
   "display_name": "Python 3",
   "language": "python",
   "name": "python3"
  },
  "language_info": {
   "codemirror_mode": {
    "name": "ipython",
    "version": 3
   },
   "file_extension": ".py",
   "mimetype": "text/x-python",
   "name": "python",
   "nbconvert_exporter": "python",
   "pygments_lexer": "ipython3",
   "version": "3.9.6"
  }
 },
 "nbformat": 4,
 "nbformat_minor": 2
}
