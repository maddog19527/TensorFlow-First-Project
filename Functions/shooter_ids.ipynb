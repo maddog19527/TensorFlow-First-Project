{
 "cells": [
  {
   "cell_type": "code",
   "execution_count": null,
   "metadata": {},
   "outputs": [],
   "source": [
    "import pandas as pd \n",
    "import numpy as np \n",
    "import matplotlib.pyplot as plt \n",
    "import seaborn as sns\n",
    "from sklearn import preprocessing\n",
    "from datetime import datetime\n",
    "from Preprocessingfunctions import convertclock,OutlierDetection\n",
    "import statsmodels.api as spearman\n",
    "from statsmodels.stats.outliers_influence import variance_inflation_factor \n",
    "from sklearn.decomposition import PCA \n",
    "from sklearn.preprocessing import StandardScaler\n",
    "\n",
    "shotlogs=pd.read_csv('shot_logs.csv')"
   ]
  },
  {
   "cell_type": "code",
   "execution_count": null,
   "metadata": {},
   "outputs": [],
   "source": [
    "ID_Copy=shotlogs[['CLOSEST_DEFENDER','CLOSEST_DEFENDER_PLAYER_ID','player_name','player_id']].copy(deep=True)\n",
    "print(ID_Copy.head())"
   ]
  },
  {
   "cell_type": "code",
   "execution_count": null,
   "metadata": {},
   "outputs": [],
   "source": [
    "shooter_ids=ID_Copy.groupby('player_name')['player_id'].unique()\n",
    "defender_ids=ID_Copy.groupby('CLOSEST_DEFENDER')['CLOSEST_DEFENDER_PLAYER_ID'].unique()\n",
    "player_ids=pd.concat([shooter_ids,defender_ids])\n",
    "player_ids=player_ids.drop_duplicates()\n",
    "print(player_ids.head())\n"
   ]
  }
 ],
 "metadata": {
  "language_info": {
   "name": "python"
  }
 },
 "nbformat": 4,
 "nbformat_minor": 2
}
