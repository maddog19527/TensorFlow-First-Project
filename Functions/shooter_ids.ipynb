{
 "cells": [
  {
   "cell_type": "code",
   "execution_count": 1,
   "metadata": {},
   "outputs": [],
   "source": [
    "import pandas as pd \n",
    "import numpy as np \n",
    "import matplotlib.pyplot as plt \n",
    "import seaborn as sns\n",
    "from sklearn import preprocessing\n",
    "from datetime import datetime\n",
    "from Preprocessingfunctions import convertclock,OutlierDetection\n",
    "import statsmodels.api as spearman\n",
    "from statsmodels.stats.outliers_influence import variance_inflation_factor \n",
    "from sklearn.decomposition import PCA \n",
    "from sklearn.preprocessing import StandardScaler\n",
    "\n",
    "shotlogs=pd.read_csv('shot_logs.csv')"
   ]
  },
  {
   "cell_type": "code",
   "execution_count": 2,
   "metadata": {},
   "outputs": [
    {
     "name": "stdout",
     "output_type": "stream",
     "text": [
      "    CLOSEST_DEFENDER  CLOSEST_DEFENDER_PLAYER_ID    player_name  player_id\n",
      "0     Anderson, Alan                      101187  brian roberts     203148\n",
      "1  Bogdanovic, Bojan                      202711  brian roberts     203148\n",
      "2  Bogdanovic, Bojan                      202711  brian roberts     203148\n",
      "3      Brown, Markel                      203900  brian roberts     203148\n",
      "4    Young, Thaddeus                      201152  brian roberts     203148\n"
     ]
    }
   ],
   "source": [
    "ID_Copy=shotlogs[['CLOSEST_DEFENDER','CLOSEST_DEFENDER_PLAYER_ID','player_name','player_id']].copy(deep=True)\n",
    "print(ID_Copy.head())"
   ]
  },
  {
   "cell_type": "code",
   "execution_count": 3,
   "metadata": {},
   "outputs": [
    {
     "name": "stdout",
     "output_type": "stream",
     "text": [
      "aaron brooks       [201166]\n",
      "aaron gordon       [203932]\n",
      "al farouq aminu    [202329]\n",
      "al horford         [201143]\n",
      "al jefferson         [2744]\n",
      "dtype: object\n"
     ]
    }
   ],
   "source": [
    "shooter_ids=ID_Copy.groupby('player_name')['player_id'].unique()\n",
    "defender_ids=ID_Copy.groupby('CLOSEST_DEFENDER')['CLOSEST_DEFENDER_PLAYER_ID'].unique()\n",
    "player_ids=pd.concat([shooter_ids,defender_ids])\n",
    "player_ids=player_ids.drop_duplicates()\n",
    "print(player_ids.head())\n"
   ]
  }
 ],
 "metadata": {
  "kernelspec": {
   "display_name": "Python 3",
   "language": "python",
   "name": "python3"
  },
  "language_info": {
   "codemirror_mode": {
    "name": "ipython",
    "version": 3
   },
   "file_extension": ".py",
   "mimetype": "text/x-python",
   "name": "python",
   "nbconvert_exporter": "python",
   "pygments_lexer": "ipython3",
   "version": "3.9.6"
  }
 },
 "nbformat": 4,
 "nbformat_minor": 2
}
